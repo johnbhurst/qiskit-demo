{
 "cells": [
  {
   "cell_type": "code",
   "execution_count": 1,
   "metadata": {},
   "outputs": [],
   "source": [
    "# Imports\n",
    "\n",
    "from math import cos, sin, pi as π\n",
    "from IPython.display import display, Markdown\n",
    "from qiskit_aer import AerSimulator\n",
    "from qiskit.circuit import QuantumCircuit, QuantumRegister\n",
    "from qiskit.quantum_info import partial_trace, Statevector"
   ]
  },
  {
   "cell_type": "markdown",
   "metadata": {},
   "source": [
    "The cell below runs the quantum teleportation circuit and shows the state vector resulting at each stage of the computation.\n",
    "\n",
    "You can experiment with $\\theta$ and $\\phi$ to create a general input state\n",
    "$$\n",
    "|\\psi\\rangle = \\cos\\frac{\\theta}{2}|0\\rangle + e^{i\\phi}\\sin\\frac{\\theta}{2}|1\\rangle\n",
    "$$\n",
    "and observe the teleportation of the state.\n",
    "\n",
    "Some examples are:\n",
    "\n",
    "| State | $\\theta$ | $\\phi$ |\n",
    "|-------|----------|--------|\n",
    "| $\\|0\\rangle$ | 0 | 0 |\n",
    "| $\\|1\\rangle$ | $\\pi$ | 0 |\n",
    "| $\\frac{1}{\\sqrt{2}}(\\|0\\rangle + i\\|1\\rangle)$ | $\\frac{\\pi}{2}$ | $\\frac{\\pi}{2}$ |\n",
    "\n",
    "In the statevector calculations below, the statevector for a single qubit is obtained from the system state by tracing out the other qubits.\n",
    "This is a way to ``factorize'' a product state $|a\\rangle\\otimes|b\\rangle$ into its parts $|a\\rangle$ and $|b\\rangle$. \n",
    "However, product states do not have unique facorizations, because $|a\\rangle\\otimes|b\\rangle = e^{i\\theta}|a\\rangle\\otimes e^{-i\\theta}|b\\rangle$ for any real $\\theta$.\n",
    "So, in some cases the statevector shown below may be different from the expected one by a global phase factor."
   ]
  },
  {
   "cell_type": "code",
   "execution_count": 2,
   "metadata": {},
   "outputs": [
    {
     "name": "stderr",
     "output_type": "stream",
     "text": [
      "Matplotlib is building the font cache; this may take a moment.\n"
     ]
    },
    {
     "data": {
      "image/png": "[encoded data removed]",
      "text/plain": [
       "<Figure size 1207.22x284.278 with 1 Axes>"
      ]
     },
     "metadata": {},
     "output_type": "display_data"
    }
   ],
   "source": [
    "def create_state(θ, φ):\n",
    "    α = cos(θ/2)\n",
    "    β = sin(θ/2) * (cos(φ) + 1j * sin(φ)) # exp(iφ) sin(θ/2)\n",
    "    return Statevector([α, β])\n",
    "\n",
    "\n",
    "def create_circuit(initial_state = create_state(0, 0)):\n",
    "    q = [q0, q1, q2] = QuantumRegister(3, 'q')\n",
    "    circuit = QuantumCircuit(q)\n",
    "    circuit.initialize(initial_state, q2)\n",
    "    circuit.save_statevector(label = \"init\")\n",
    "    circuit.h(q1)\n",
    "    circuit.cx(q1, q0)\n",
    "    circuit.save_statevector(label = \"Ψ₀\")\n",
    "    circuit.cx(q2, q1)\n",
    "    circuit.save_statevector(label = \"Ψ₁\")\n",
    "    circuit.h(q2)\n",
    "    circuit.save_statevector(label = \"Ψ₂\")\n",
    "    circuit.cx(q1, q0)\n",
    "    circuit.save_statevector(label = \"Ψ₃\")\n",
    "    circuit.cz(q2, q0)\n",
    "    circuit.save_statevector(label = \"Ψ₄\")\n",
    "    return circuit\n",
    "\n",
    "\n",
    "circuit = create_circuit()\n",
    "display(circuit.draw('mpl'))"
   ]
  },
  {
   "cell_type": "code",
   "execution_count": 4,
   "metadata": {},
   "outputs": [
    {
     "data": {
      "text/markdown": [
       "Stage | State\n",
       "---    | ---\n",
       "Input  | $\\frac{\\sqrt{2}}{2} \\|0\\rangle+\\frac{\\sqrt{2} i}{2} \\|1\\rangle$ (up to a phase difference)\n",
       "init   | $\\frac{\\sqrt{2}}{2} \\|000\\rangle+\\frac{\\sqrt{2} i}{2} \\|100\\rangle$\n",
       "Ψ₀     | $\\frac{1}{2} \\|000\\rangle+\\frac{1}{2} \\|011\\rangle+\\frac{i}{2} \\|100\\rangle+\\frac{i}{2} \\|111\\rangle$\n",
       "Ψ₁     | $\\frac{1}{2} \\|000\\rangle+\\frac{1}{2} \\|011\\rangle+\\frac{i}{2} \\|101\\rangle+\\frac{i}{2} \\|110\\rangle$\n",
       "Ψ₂     | $\\frac{\\sqrt{2}}{4} \\|000\\rangle+\\frac{\\sqrt{2} i}{4} \\|001\\rangle+\\frac{\\sqrt{2} i}{4} \\|010\\rangle+\\frac{\\sqrt{2}}{4} \\|011\\rangle+\\frac{\\sqrt{2}}{4} \\|100\\rangle- \\frac{\\sqrt{2} i}{4} \\|101\\rangle- \\frac{\\sqrt{2} i}{4} \\|110\\rangle+\\frac{\\sqrt{2}}{4} \\|111\\rangle$\n",
       "Ψ₃     | $\\frac{\\sqrt{2}}{4} \\|000\\rangle+\\frac{\\sqrt{2} i}{4} \\|001\\rangle+\\frac{\\sqrt{2}}{4} \\|010\\rangle+\\frac{\\sqrt{2} i}{4} \\|011\\rangle+\\frac{\\sqrt{2}}{4} \\|100\\rangle- \\frac{\\sqrt{2} i}{4} \\|101\\rangle+\\frac{\\sqrt{2}}{4} \\|110\\rangle- \\frac{\\sqrt{2} i}{4} \\|111\\rangle$\n",
       "Ψ₄     | $\\frac{\\sqrt{2}}{4} \\|000\\rangle+\\frac{\\sqrt{2} i}{4} \\|001\\rangle+\\frac{\\sqrt{2}}{4} \\|010\\rangle+\\frac{\\sqrt{2} i}{4} \\|011\\rangle+\\frac{\\sqrt{2}}{4} \\|100\\rangle+\\frac{\\sqrt{2} i}{4} \\|101\\rangle+\\frac{\\sqrt{2}}{4} \\|110\\rangle+\\frac{\\sqrt{2} i}{4} \\|111\\rangle$\n",
       "Output | $\\frac{\\sqrt{2}}{2} \\|0\\rangle+\\frac{\\sqrt{2} i}{2} \\|1\\rangle$ (up to a phase difference)\n"
      ],
      "text/plain": [
       "<IPython.core.display.Markdown object>"
      ]
     },
     "metadata": {},
     "output_type": "display_data"
    }
   ],
   "source": [
    "# Basis state |0⟩\n",
    "# θ = 0\n",
    "\n",
    "# φ = 0\n",
    "\n",
    "# Basis state |1⟩\n",
    "# θ = π\n",
    "# φ = 0\n",
    "\n",
    "# Another state: 1/√2 (|0⟩ + i|1⟩)\n",
    "θ = π/2\n",
    "φ = π/2\n",
    "\n",
    "circuit = create_circuit(create_state(θ, φ))\n",
    "simulator = AerSimulator()\n",
    "result = simulator.run(circuit).result()\n",
    "statevectors = result.data(0)\n",
    "init = statevectors[\"init\"]\n",
    "input = partial_trace(init, [0, 1]).to_statevector() # extract the state of just the input qubit (q2)\n",
    "Ψ0 = statevectors[\"Ψ₀\"]\n",
    "Ψ1 = statevectors[\"Ψ₁\"]\n",
    "Ψ2 = statevectors[\"Ψ₂\"]\n",
    "Ψ3 = statevectors[\"Ψ₃\"]\n",
    "Ψ4 = statevectors[\"Ψ₄\"]\n",
    "output = partial_trace(Ψ4, [1, 2]).to_statevector() # extract the state of just the output qubit (q0)\n",
    "\n",
    "\n",
    "def fmt_sv(statevector):\n",
    "    return statevector.draw('latex_source').replace('|', r'\\|') # escape | for use in Markdown table\n",
    "\n",
    "\n",
    "display(Markdown(f\"\"\"Stage | State\n",
    "---    | ---\n",
    "Input  | ${fmt_sv(input)}$ (up to a phase difference)\n",
    "init   | ${fmt_sv(init)}$\n",
    "Ψ₀     | ${fmt_sv(Ψ0)}$\n",
    "Ψ₁     | ${fmt_sv(Ψ1)}$\n",
    "Ψ₂     | ${fmt_sv(Ψ2)}$\n",
    "Ψ₃     | ${fmt_sv(Ψ3)}$\n",
    "Ψ₄     | ${fmt_sv(Ψ4)}$\n",
    "Output | ${fmt_sv(output)}$ (up to a phase difference)\n",
    "\"\"\"))\n"
   ]
  },
  {
   "cell_type": "code",
   "execution_count": null,
   "metadata": {},
   "outputs": [],
   "source": []
  }
 ],
 "metadata": {
  "kernelspec": {
   "display_name": "venv",
   "language": "python",
   "name": "python3"
  },
  "language_info": {
   "codemirror_mode": {
    "name": "ipython",
    "version": 3
   },
   "file_extension": ".py",
   "mimetype": "text/x-python",
   "name": "python",
   "nbconvert_exporter": "python",
   "pygments_lexer": "ipython3",
   "version": "3.13.1"
  }
 },
 "nbformat": 4,
 "nbformat_minor": 2
}
